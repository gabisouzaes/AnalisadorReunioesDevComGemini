{
  "nbformat": 4,
  "nbformat_minor": 0,
  "metadata": {
    "colab": {
      "provenance": [],
      "authorship_tag": "ABX9TyPmeD46Txu7/ADRhrx86txT",
      "include_colab_link": true
    },
    "kernelspec": {
      "name": "python3",
      "display_name": "Python 3"
    },
    "language_info": {
      "name": "python"
    }
  },
  "cells": [
    {
      "cell_type": "markdown",
      "metadata": {
        "id": "view-in-github",
        "colab_type": "text"
      },
      "source": [
        "<a href=\"https://colab.research.google.com/github/gabisouzaes/AnalisadorReunioesDevComGemini/blob/main/AnalisadorReunioesDevComGemini.ipynb\" target=\"_parent\"><img src=\"https://colab.research.google.com/assets/colab-badge.svg\" alt=\"Open In Colab\"/></a>"
      ]
    },
    {
      "cell_type": "code",
      "source": [
        "!pip install -q google-generativeai\n",
        "!pip install -q google-api-python-client google-auth-httplib2 google-auth-oauthlib"
      ],
      "metadata": {
        "collapsed": true,
        "id": "IH0FDFNsZE64"
      },
      "execution_count": 83,
      "outputs": []
    },
    {
      "cell_type": "code",
      "source": [
        "# Configura a API Key do Google Gemini\n",
        "\n",
        "import os\n",
        "from google.colab import userdata\n",
        "\n",
        "os.environ[\"GOOGLE_API_KEY\"] = userdata.get('GOOGLE_API_KEY')"
      ],
      "metadata": {
        "id": "PPw_qv5mmDof"
      },
      "execution_count": 100,
      "outputs": []
    },
    {
      "cell_type": "code",
      "source": [
        "# Configura o cliente da SDK do Gemini\n",
        "\n",
        "from google import genai\n",
        "\n",
        "client = genai.Client()\n",
        "\n",
        "MODEL_ID = \"gemini-2.0-flash\""
      ],
      "metadata": {
        "id": "NzTH4u2oqWJ6"
      },
      "execution_count": 101,
      "outputs": []
    },
    {
      "cell_type": "code",
      "source": [
        "# Importa as bibliotecas\n",
        "\n",
        "# --- Importações Padrão do Python ---\n",
        "import os  # Para interagir com o sistema operacional (ex: variáveis de ambiente)\n",
        "import json  # Para trabalhar com dados no formato JSON\n",
        "\n",
        "# --- Importações para Interação com APIs do Google (incluindo Google Docs) ---\n",
        "# Biblioteca principal para construir serviços para APIs do Google\n",
        "from googleapiclient.discovery import build\n",
        "\n",
        "# Bibliotecas para autenticação no Google Cloud e Colab\n",
        "from google.colab import auth, userdata  # 'auth' para autenticar o usuário no Colab, 'userdata' para acessar Secrets\n",
        "import google.auth # Para obter as credenciais padrão após a autenticação\n",
        "\n",
        "# --- Importações para o Google Generative AI (Gemini) ---\n",
        "import google.generativeai as genai_sdk # SDK Padrão do Google Gemini, nomeado como 'genai_sdk'\n",
        "\n",
        "# --- Importações para Exibição no Colab (Opcional, mas útil) ---\n",
        "from IPython.display import Markdown, display # Para formatar e exibir saídas de forma mais rica\n",
        "\n",
        "# --- Importação para Datas (Opcional, mas útil para registrar quando as análises são feitas) ---\n",
        "from datetime import datetime\n",
        "\n",
        "print(\"Todas as bibliotecas e funções necessárias foram importadas.\")\n",
        "print(\"Lembre-se de configurar sua API Key do Gemini e autenticar o usuário para o Google Docs.\")"
      ],
      "metadata": {
        "colab": {
          "base_uri": "https://localhost:8080/"
        },
        "id": "PSDdWDbTrzmh",
        "outputId": "2d5836ed-67f9-47a6-e5fc-f74369ce94b4"
      },
      "execution_count": 102,
      "outputs": [
        {
          "output_type": "stream",
          "name": "stdout",
          "text": [
            "Todas as bibliotecas e funções necessárias foram importadas.\n",
            "Lembre-se de configurar sua API Key do Gemini e autenticar o usuário para o Google Docs.\n"
          ]
        }
      ]
    },
    {
      "cell_type": "code",
      "source": [
        "TECH_LEAD_NAME = \"Gabriella\"\n",
        "NOME_MODELO_GEMINI_STRING = \"gemini-2.0-flash\""
      ],
      "metadata": {
        "id": "kyGiPsH3QODz"
      },
      "execution_count": 103,
      "outputs": []
    },
    {
      "cell_type": "code",
      "source": [
        "# Inicializa o serviço do Google Docs\n",
        "try:\n",
        "    auth.authenticate_user()\n",
        "    print(\"Usuário autenticado para serviços Google.\")\n",
        "    creds, project = google.auth.default()\n",
        "    # Inicializar o serviço do Google Docs\n",
        "    docs_service = build('docs', 'v1', credentials=creds)\n",
        "    print(\"Serviço do Google Docs pronto para uso.\")\n",
        "except Exception as e:\n",
        "    print(f\"Erro na autenticação do Google: {e}\")"
      ],
      "metadata": {
        "colab": {
          "base_uri": "https://localhost:8080/"
        },
        "id": "0TJaomDPtI_f",
        "outputId": "5d37fb1e-148b-451d-eacd-019fec7945cd"
      },
      "execution_count": 104,
      "outputs": [
        {
          "output_type": "stream",
          "name": "stdout",
          "text": [
            "Usuário autenticado para serviços Google.\n",
            "Serviço do Google Docs pronto para uso.\n"
          ]
        }
      ]
    },
    {
      "cell_type": "code",
      "source": [
        "PROMPT_INSIGHTS = \"\"\"Você é uma assistente de IA com especialidade em identificar tendências de desenvolvimento em séries de conversas 1:1.\n",
        "As reuniões analisadas são entre Gabriella (líder técnica) e um de seus liderados.\n",
        "Interprete o conjunto de anotações de reuniões fornecido abaixo como um todo, refletindo a jornada de desenvolvimento deste liderado específico com Gabriella.\n",
        "\n",
        "Com base em todas as anotações fornecidas, elabore um resumo com suas percepções gerais sobre os pontos de desenvolvimento do liderado. Em seu resumo, procure destacar:\n",
        "\n",
        "* As principais áreas de foco para desenvolvimento (técnicas e comportamentais) que se mantiveram ao longo do tempo.\n",
        "* Evidências claras de progresso ou, alternativamente, áreas onde o desenvolvimento pareceu estagnado ou enfrentou dificuldades.\n",
        "* Desafios ou obstáculos que foram mencionados ou observados de forma recorrente.\n",
        "* De 1 a 3 recomendações principais ou próximos passos para o desenvolvimento futuro do liderado.\n",
        "\n",
        "Apresente suas percepções de forma clara, direta e concisa.\n",
        "\"\"\"\n",
        "\n",
        "def gerar_insights_de_documentos_agrupados(\n",
        "    lista_ids,\n",
        "    servico_docs,\n",
        "    nome_lider,\n",
        "    template_prompt,\n",
        "    modelo_gemini_obj\n",
        "):\n",
        "    # Lê e combina o conteúdo dos documentos.\n",
        "    textos_docs = []\n",
        "    for doc_id in lista_ids:\n",
        "        texto = ler_transcricao_do_google_docs(doc_id, servico_docs)\n",
        "    textos_combinados = \"\".join(textos_docs)\n",
        "\n",
        "    # Formata o prompt final com os dados coletados.\n",
        "    prompt_final = template_prompt.format(\n",
        "        nome_da_lider=nome_lider,\n",
        "        textos_combinados_das_reunioes=textos_combinados\n",
        "    )\n",
        "    # Envia o prompt para o modelo Gemini e obtém a resposta.\n",
        "    resposta = modelo_gemini_obj.generate_content(prompt_final)\n",
        "    return resposta.text\n",
        "\n",
        "# FIM DO TRECHO DE DEFINIÇÃO DA FUNÇÃO E PROMPT\n",
        "\n",
        "# --- EXECUÇÃO PRINCIPAL DA ANÁLISE ---\n",
        "print(\"\\n--- Execução Principal da Análise ---\")\n",
        "\n",
        "# Verifica se os serviços essenciais foram inicializados corretamente.\n",
        "if docs_service and modelo_gemini_objeto:\n",
        "    # Coleta os IDs dos documentos do usuário. Incluir apenas ID do googledocs e não o link completo\n",
        "    lista_de_document_ids = obter_lista_de_ids_google_docs()\n",
        "\n",
        "    if lista_de_document_ids: # Procede apenas se o usuário forneceu algum ID.\n",
        "        print(\"\\n   Iniciando a geração de insights agrupados com o Gemini...\")\n",
        "\n",
        "        # INÍCIO DO BLOCO DE CHAMADA\n",
        "        insights_finais = gerar_insights_de_documentos_agrupados(\n",
        "            lista_de_document_ids, # Passa a lista de IDs coletada\n",
        "            docs_service,\n",
        "            TECH_LEAD_NAME,      # \"Gabriella\"\n",
        "            PROMPT_INSIGHTS,\n",
        "            modelo_gemini_objeto\n",
        "        )\n",
        "\n",
        "        # Exibe o resultado diretamente.\n",
        "        # Se 'insights_finais' contiver uma string de erro da função, ela será exibida.\n",
        "        print(\"\\n   --- RESULTADO DA ANÁLISE DA IA ---\")\n",
        "        display(Markdown(str(insights_finais))) # Converte para str para segurança antes de Markdown\n",
        "\n",
        "print(\"\\n--- Fim do Script ---\")"
      ],
      "metadata": {
        "colab": {
          "base_uri": "https://localhost:8080/",
          "height": 1000
        },
        "id": "EHbLKotX5wLu",
        "outputId": "0896bd77-2d70-41f3-f58d-39fa60b16585"
      },
      "execution_count": 112,
      "outputs": [
        {
          "output_type": "stream",
          "name": "stdout",
          "text": [
            "\n",
            "--- Execução Principal da Análise ---\n",
            "\n",
            "   --- Coleta de IDs de Documentos do Google Docs ---\n",
            "   Insira o ID do Documento nº 1 (ou digite 'fim' para concluir, ou pressione Enter para concluir se já adicionou algum): 1kKu8DYBo5cnVPs4P6x7SbDTnaPs_TAa7XlR5ZModcSk\n",
            "   ID '1kKu8DYBo5cnVPs4P6x7SbDTnaPs_TAa7XlR5ZModcSk' adicionado à lista.\n",
            "   Insira o ID do Documento nº 2 (ou digite 'fim' para concluir, ou pressione Enter para concluir se já adicionou algum): \n",
            "   Entrada vazia detectada. Coleta de IDs finalizada.\n",
            "\n",
            "   --- Coleta Finalizada: 1 ID(s) de documento(s) coletado(s). ---\n",
            "\n",
            "   Iniciando a geração de insights agrupados com o Gemini...\n",
            "\n",
            "   --- RESULTADO DA ANÁLISE DA IA ---\n"
          ]
        },
        {
          "output_type": "display_data",
          "data": {
            "text/plain": [
              "<IPython.core.display.Markdown object>"
            ],
            "text/markdown": "## Análise da Jornada de Desenvolvimento do Liderado (com Gabriella)\n\nCom base nas anotações de reuniões fornecidas, a jornada de desenvolvimento do liderado com Gabriella revela um padrão claro com áreas de foco consistentes, progresso evidente em alguns aspectos, mas também desafios persistentes.\n\n**Principais Áreas de Foco para Desenvolvimento:**\n\n*   **Comunicação e Confiança:** A comunicação clara, concisa e assertiva, especialmente em situações de pressão ou incerteza, surge como uma área central. Isso está intimamente ligado à construção de confiança, tanto em si mesmo quanto em suas decisões técnicas.\n*   **Gerenciamento de Tempo e Priorização:** A dificuldade em equilibrar múltiplas tarefas, definir prioridades e evitar sobrecarga é um tema recorrente.\n*   **Profundidade Técnica (específica ao contexto do projeto):** Embora o liderado demonstre competência, há uma necessidade contínua de aprofundar o conhecimento técnico em áreas específicas relevantes para o projeto/equipe.\n\n**Evidências de Progresso:**\n\n*   **Comunicação:** Inicialmente hesitante e por vezes impreciso, o liderado demonstra melhoria gradual na clareza da comunicação, especialmente ao apresentar resultados e solicitar ajuda. Há evidências de que ele está aplicando as técnicas de comunicação sugeridas por Gabriella, como a estruturação da fala e o uso de exemplos concretos.\n*   **Aceitação de Feedback:** A abertura para receber feedback e a disposição em implementar as sugestões de Gabriella parecem ter aumentado ao longo do tempo. Isso indica um crescimento na autoconsciência e na capacidade de aprendizado.\n\n**Áreas de Dificuldade/Estagnação:**\n\n*   **Gerenciamento de Tempo e Priorização (continua sendo um desafio):** Apesar de algumas tentativas e discussões sobre técnicas de priorização, o liderado continua a lutar para gerenciar seu tempo de forma eficaz e evitar a sobrecarga. Isso pode estar relacionado a uma dificuldade subjacente em delegar tarefas ou em dizer \"não\" a novas demandas.\n*   **Confiança em Decisões Técnicas:** Embora tenha havido alguma melhora, o liderado ainda demonstra hesitação em tomar decisões técnicas de forma independente, buscando constantemente a validação de Gabriella. Isso pode indicar uma falta de confiança em suas próprias habilidades ou um medo de cometer erros.\n\n**Desafios/Obstáculos Recorrentes:**\n\n*   **Sobrecarga de Trabalho:** A sensação de estar sobrecarregado e a dificuldade em lidar com múltiplas demandas parecem ser um obstáculo constante para o desenvolvimento do liderado.\n*   **Falta de Clareza nas Prioridades:** A ausência de uma definição clara das prioridades, tanto por parte do próprio liderado quanto da equipe, contribui para a dificuldade em gerenciar o tempo e evitar a sobrecarga.\n*   **Síndrome do Impostor:** A hesitação em tomar decisões e a busca constante por validação podem ser indicativos de uma síndrome do impostor, onde o indivíduo duvida de suas próprias habilidades e teme ser exposto como uma fraude.\n\n**Recomendações/Próximos Passos:**\n\n1.  **Foco no Gerenciamento de Tempo e Delegação:** Gabriella deve continuar a apoiar o liderado no desenvolvimento de habilidades de gerenciamento de tempo e priorização, com foco especial na delegação de tarefas e no estabelecimento de limites claros para evitar a sobrecarga. Oferecer treinamento específico ou ferramentas de gestão de tempo pode ser benéfico.\n2.  **Mentoria em Tomada de Decisão Técnica:** Implementar sessões de mentoria específicas para aprimorar a confiança do liderado na tomada de decisões técnicas. Gabriella pode criar cenários simulados e fornecer feedback construtivo sobre as decisões tomadas.\n3.  **Incentivar a Autonomia e Celebrar Sucessos:** Reforçar a autonomia do liderado, permitindo que ele tome mais decisões de forma independente e celebrando seus sucessos para aumentar a confiança em suas próprias habilidades. Gabriella deve fornecer um ambiente seguro para que ele possa experimentar e aprender com seus erros.\n"
          },
          "metadata": {}
        },
        {
          "output_type": "stream",
          "name": "stdout",
          "text": [
            "\n",
            "--- Fim do Script ---\n"
          ]
        }
      ]
    },
    {
      "cell_type": "code",
      "source": [],
      "metadata": {
        "id": "QLsk2nBx5twR"
      },
      "execution_count": null,
      "outputs": []
    }
  ]
}