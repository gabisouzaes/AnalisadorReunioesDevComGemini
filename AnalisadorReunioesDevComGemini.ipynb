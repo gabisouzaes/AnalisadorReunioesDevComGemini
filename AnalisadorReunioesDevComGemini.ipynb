{
  "nbformat": 4,
  "nbformat_minor": 0,
  "metadata": {
    "colab": {
      "provenance": [],
      "authorship_tag": "ABX9TyPmeD46Txu7/ADRhrx86txT",
      "include_colab_link": true
    },
    "kernelspec": {
      "name": "python3",
      "display_name": "Python 3"
    },
    "language_info": {
      "name": "python"
    }
  },
  "cells": [
    {
      "cell_type": "markdown",
      "metadata": {
        "id": "view-in-github",
        "colab_type": "text"
      },
      "source": [
        "<a href=\"https://colab.research.google.com/github/gabisouzaes/AnalisadorReunioesDevComGemini/blob/main/AnalisadorReunioesDevComGemini.ipynb\" target=\"_parent\"><img src=\"https://colab.research.google.com/assets/colab-badge.svg\" alt=\"Open In Colab\"/></a>"
      ]
    },
    {
      "cell_type": "code",
      "source": [
        "!pip install -q google-generativeai\n",
        "!pip install -q google-api-python-client google-auth-httplib2 google-auth-oauthlib"
      ],
      "metadata": {
        "collapsed": true,
        "id": "IH0FDFNsZE64"
      },
      "execution_count": 83,
      "outputs": []
    },
    {
      "cell_type": "code",
      "source": [
        "# Configura a API Key do Google Gemini\n",
        "\n",
        "import os\n",
        "from google.colab import userdata\n",
        "\n",
        "os.environ[\"GOOGLE_API_KEY\"] = userdata.get('GOOGLE_API_KEY')"
      ],
      "metadata": {
        "id": "PPw_qv5mmDof"
      },
      "execution_count": 100,
      "outputs": []
    },
    {
      "cell_type": "code",
      "source": [
        "# Configura o cliente da SDK do Gemini\n",
        "\n",
        "from google import genai\n",
        "\n",
        "client = genai.Client()\n",
        "\n",
        "MODEL_ID = \"gemini-2.0-flash\""
      ],
      "metadata": {
        "id": "NzTH4u2oqWJ6"
      },
      "execution_count": 101,
      "outputs": []
    },
    {
      "cell_type": "code",
      "source": [
        "# Importa as bibliotecas\n",
        "\n",
        "# --- Importações Padrão do Python ---\n",
        "import os  # Para interagir com o sistema operacional (ex: variáveis de ambiente)\n",
        "import json  # Para trabalhar com dados no formato JSON\n",
        "\n",
        "# --- Importações para Interação com APIs do Google (incluindo Google Docs) ---\n",
        "# Biblioteca principal para construir serviços para APIs do Google\n",
        "from googleapiclient.discovery import build\n",
        "\n",
        "# Bibliotecas para autenticação no Google Cloud e Colab\n",
        "from google.colab import auth, userdata  # 'auth' para autenticar o usuário no Colab, 'userdata' para acessar Secrets\n",
        "import google.auth # Para obter as credenciais padrão após a autenticação\n",
        "\n",
        "# --- Importações para o Google Generative AI (Gemini) ---\n",
        "import google.generativeai as genai_sdk # SDK Padrão do Google Gemini, nomeado como 'genai_sdk'\n",
        "\n",
        "# --- Importações para Exibição no Colab (Opcional, mas útil) ---\n",
        "from IPython.display import Markdown, display # Para formatar e exibir saídas de forma mais rica\n",
        "\n",
        "# --- Importação para Datas (Opcional, mas útil para registrar quando as análises são feitas) ---\n",
        "from datetime import datetime\n",
        "\n",
        "print(\"Todas as bibliotecas e funções necessárias foram importadas.\")\n",
        "print(\"Lembre-se de configurar sua API Key do Gemini e autenticar o usuário para o Google Docs.\")"
      ],
      "metadata": {
        "colab": {
          "base_uri": "https://localhost:8080/"
        },
        "id": "PSDdWDbTrzmh",
        "outputId": "2d5836ed-67f9-47a6-e5fc-f74369ce94b4"
      },
      "execution_count": 102,
      "outputs": [
        {
          "output_type": "stream",
          "name": "stdout",
          "text": [
            "Todas as bibliotecas e funções necessárias foram importadas.\n",
            "Lembre-se de configurar sua API Key do Gemini e autenticar o usuário para o Google Docs.\n"
          ]
        }
      ]
    },
    {
      "cell_type": "code",
      "source": [
        "TECH_LEAD_NAME = \"Gabriella\"\n",
        "NOME_MODELO_GEMINI_STRING = \"gemini-2.0-flash\""
      ],
      "metadata": {
        "id": "kyGiPsH3QODz"
      },
      "execution_count": 103,
      "outputs": []
    },
    {
      "cell_type": "code",
      "source": [
        "# Inicializa o serviço do Google Docs\n",
        "try:\n",
        "    auth.authenticate_user()\n",
        "    print(\"Usuário autenticado para serviços Google.\")\n",
        "    creds, project = google.auth.default()\n",
        "    # Inicializar o serviço do Google Docs\n",
        "    docs_service = build('docs', 'v1', credentials=creds)\n",
        "    print(\"Serviço do Google Docs pronto para uso.\")\n",
        "except Exception as e:\n",
        "    print(f\"Erro na autenticação do Google: {e}\")"
      ],
      "metadata": {
        "colab": {
          "base_uri": "https://localhost:8080/"
        },
        "id": "0TJaomDPtI_f",
        "outputId": "5d37fb1e-148b-451d-eacd-019fec7945cd"
      },
      "execution_count": 104,
      "outputs": [
        {
          "output_type": "stream",
          "name": "stdout",
          "text": [
            "Usuário autenticado para serviços Google.\n",
            "Serviço do Google Docs pronto para uso.\n"
          ]
        }
      ]
    },
    {
      "cell_type": "code",
      "source": [
        "PROMPT_INSIGHTS = \"\"\"Você é uma assistente de IA com especialidade em identificar tendências de desenvolvimento em séries de conversas 1:1.\n",
        "As reuniões analisadas são entre Gabriella (líder técnica) e um de seus liderados.\n",
        "Interprete o conjunto de anotações de reuniões fornecido abaixo como um todo, refletindo a jornada de desenvolvimento deste liderado específico com Gabriella.\n",
        "\n",
        "Com base em todas as anotações fornecidas, elabore um resumo com suas percepções gerais sobre os pontos de desenvolvimento do liderado. Em seu resumo, procure destacar:\n",
        "\n",
        "* As principais áreas de foco para desenvolvimento (técnicas e comportamentais) que se mantiveram ao longo do tempo.\n",
        "* Evidências claras de progresso ou, alternativamente, áreas onde o desenvolvimento pareceu estagnado ou enfrentou dificuldades.\n",
        "* Desafios ou obstáculos que foram mencionados ou observados de forma recorrente.\n",
        "* De 1 a 3 recomendações principais ou próximos passos para o desenvolvimento futuro do liderado.\n",
        "\n",
        "Apresente suas percepções de forma clara, direta e concisa.\n",
        "\"\"\"\n",
        "\n",
        "def gerar_insights_de_documentos_agrupados(\n",
        "    lista_ids,\n",
        "    servico_docs,\n",
        "    nome_lider,\n",
        "    template_prompt,\n",
        "    modelo_gemini_obj\n",
        "):\n",
        "    # Lê e combina o conteúdo dos documentos.\n",
        "    textos_docs = []\n",
        "    for doc_id in lista_ids:\n",
        "        texto = ler_transcricao_do_google_docs(doc_id, servico_docs)\n",
        "    textos_combinados = \"\".join(textos_docs)\n",
        "\n",
        "    # Formata o prompt final com os dados coletados.\n",
        "    prompt_final = template_prompt.format(\n",
        "        nome_da_lider=nome_lider,\n",
        "        textos_combinados_das_reunioes=textos_combinados\n",
        "    )\n",
        "    # Envia o prompt para o modelo Gemini e obtém a resposta.\n",
        "    resposta = modelo_gemini_obj.generate_content(prompt_final)\n",
        "    return resposta.text\n",
        "\n",
        "# FIM DO TRECHO DE DEFINIÇÃO DA FUNÇÃO E PROMPT\n",
        "\n",
        "# --- EXECUÇÃO PRINCIPAL DA ANÁLISE ---\n",
        "print(\"\\n--- Execução Principal da Análise ---\")\n",
        "\n",
        "# Verifica se os serviços essenciais foram inicializados corretamente.\n",
        "if docs_service and modelo_gemini_objeto:\n",
        "    # Coleta os IDs dos documentos do usuário. Incluir apenas ID do googledocs e não o link completo\n",
        "    lista_de_document_ids = obter_lista_de_ids_google_docs()\n",
        "\n",
        "    if lista_de_document_ids: # Procede apenas se o usuário forneceu algum ID.\n",
        "        print(\"\\n   Iniciando a geração de insights agrupados com o Gemini...\")\n",
        "\n",
        "        # INÍCIO DO BLOCO DE CHAMADA\n",
        "        insights_finais = gerar_insights_de_documentos_agrupados(\n",
        "            lista_de_document_ids, # Passa a lista de IDs coletada\n",
        "            docs_service,\n",
        "            TECH_LEAD_NAME,      # \"Gabriella\"\n",
        "            PROMPT_INSIGHTS,\n",
        "            modelo_gemini_objeto\n",
        "        )\n",
        "\n",
        "        # Exibe o resultado diretamente.\n",
        "        # Se 'insights_finais' contiver uma string de erro da função, ela será exibida.\n",
        "        print(\"\\n   --- RESULTADO DA ANÁLISE DA IA ---\")\n",
        "        display(Markdown(str(insights_finais))) # Converte para str para segurança antes de Markdown\n",
        "\n",
        "print(\"\\n--- Fim do Script ---\")"
      ],
      "metadata": {
        "colab": {
          "base_uri": "https://localhost:8080/",
          "height": 1000
        },
        "id": "EHbLKotX5wLu",
        "outputId": "94982de9-afdd-4a0f-a184-8fd0f147bb90"
      },
      "execution_count": 113,
      "outputs": [
        {
          "output_type": "stream",
          "name": "stdout",
          "text": [
            "\n",
            "--- Execução Principal da Análise ---\n",
            "\n",
            "   --- Coleta de IDs de Documentos do Google Docs ---\n",
            "   Insira o ID do Documento nº 1 (ou digite 'fim' para concluir, ou pressione Enter para concluir se já adicionou algum): 1UMd1lqlvB_VWfW442obW0yjD3tlMt_7U55sxntLA3ho\n",
            "   ID '1UMd1lqlvB_VWfW442obW0yjD3tlMt_7U55sxntLA3ho' adicionado à lista.\n",
            "   Insira o ID do Documento nº 2 (ou digite 'fim' para concluir, ou pressione Enter para concluir se já adicionou algum): 1_SH0o76SJD9_htSe8S5WegYR08sjzc89fPr0uhp1bjo\n",
            "   ID '1_SH0o76SJD9_htSe8S5WegYR08sjzc89fPr0uhp1bjo' adicionado à lista.\n",
            "   Insira o ID do Documento nº 3 (ou digite 'fim' para concluir, ou pressione Enter para concluir se já adicionou algum): 1HVlICG87FCSLyRxqrZM84Umx7YoqgiV-lV6EC2CQfLA\n",
            "   ID '1HVlICG87FCSLyRxqrZM84Umx7YoqgiV-lV6EC2CQfLA' adicionado à lista.\n",
            "   Insira o ID do Documento nº 4 (ou digite 'fim' para concluir, ou pressione Enter para concluir se já adicionou algum): 1i7lcXMHI4LT9DZuUQ5_sEOMrFeC8vCi6GTrWUdMFUP8\n",
            "   ID '1i7lcXMHI4LT9DZuUQ5_sEOMrFeC8vCi6GTrWUdMFUP8' adicionado à lista.\n",
            "   Insira o ID do Documento nº 5 (ou digite 'fim' para concluir, ou pressione Enter para concluir se já adicionou algum): 1Ep27xhEmuA83U6poGrsx8QDIN0zhqKaBFYzBn3Rs91Q\n",
            "   ID '1Ep27xhEmuA83U6poGrsx8QDIN0zhqKaBFYzBn3Rs91Q' adicionado à lista.\n",
            "   Insira o ID do Documento nº 6 (ou digite 'fim' para concluir, ou pressione Enter para concluir se já adicionou algum): 1kKu8DYBo5cnVPs4P6x7SbDTnaPs_TAa7XlR5ZModcSk\n",
            "   ID '1kKu8DYBo5cnVPs4P6x7SbDTnaPs_TAa7XlR5ZModcSk' adicionado à lista.\n",
            "   Insira o ID do Documento nº 7 (ou digite 'fim' para concluir, ou pressione Enter para concluir se já adicionou algum): \n",
            "   Entrada vazia detectada. Coleta de IDs finalizada.\n",
            "\n",
            "   --- Coleta Finalizada: 6 ID(s) de documento(s) coletado(s). ---\n",
            "\n",
            "   Iniciando a geração de insights agrupados com o Gemini...\n",
            "\n",
            "   --- RESULTADO DA ANÁLISE DA IA ---\n"
          ]
        },
        {
          "output_type": "display_data",
          "data": {
            "text/plain": [
              "<IPython.core.display.Markdown object>"
            ],
            "text/markdown": "## Análise da Jornada de Desenvolvimento do Liderado de Gabriella\n\nCom base nas anotações de reuniões fornecidas, elaborei um resumo com minhas percepções sobre a jornada de desenvolvimento do liderado, destacando as principais áreas de foco, progressos, desafios e recomendações.\n\n**Resumo Geral:**\n\nA jornada de desenvolvimento do liderado, guiada por Gabriella, parece focar em duas áreas principais: **habilidades de comunicação e autonomia técnica**. Inicialmente, a comunicação, tanto em termos de clareza quanto de proatividade em compartilhar informações, é um ponto central.  A autonomia técnica, por sua vez, está ligada à capacidade de resolver problemas de forma independente e tomar decisões com confiança.\n\n**Áreas de Foco Recorrentes:**\n\n*   **Comunicação:** Melhorar a clareza na comunicação de problemas e soluções, ser mais proativo em manter todos informados sobre o progresso do trabalho, e apresentar ideias de forma mais estruturada.\n*   **Autonomia Técnica:** Desenvolver maior confiança para tomar decisões técnicas independentes e buscar soluções para problemas sem depender excessivamente de orientação.\n\n**Evidências de Progresso e Dificuldades:**\n\n*   **Progresso:** Há sinais de progresso na área de comunicação, com menções a melhorias na clareza e na proatividade. O liderado parece estar mais consciente da importância de manter a equipe informada. Pequenos incrementos na tomada de decisões técnicas também podem ser notados.\n*   **Dificuldades/Estagnação:** A autonomia técnica parece ser uma área mais desafiadora. Embora haja tentativas de delegar decisões, o liderado demonstra insegurança e busca validação frequente, indicando uma dificuldade em internalizar o processo de tomada de decisão.\n\n**Desafios e Obstáculos Recorrentes:**\n\n*   **Insegurança Técnica:** A falta de confiança em suas próprias habilidades técnicas é um obstáculo recorrente. Isso leva à busca constante por validação e à dificuldade em tomar decisões de forma autônoma.\n*   **Comunicação Reativa:** Apesar da melhora na proatividade, a comunicação ainda parece ser mais reativa do que proativa, especialmente em situações de problemas ou incertezas.\n* **Dificuldade em estruturar ideias:** A apresentação de ideias e soluções ainda carece de estrutura, o que dificulta a compreensão e o engajamento da equipe.\n\n**Recomendações e Próximos Passos:**\n\n1.  **Foco em pequenas vitórias:** Definir projetos menores e bem definidos que permitam ao liderado tomar decisões técnicas com menor impacto. Isso pode aumentar a confiança e fomentar a autonomia. Gabriella pode atuar como um *safety net*, dando suporte, mas incentivando a tomada de decisão.\n2.  **Simulações e role-playing:** Praticar a apresentação de ideias e soluções em um ambiente seguro. Isso pode ajudar o liderado a estruturar seus pensamentos e a comunicar suas ideias de forma mais eficaz.\n3.  **Feedback estruturado e frequente:** Gabriella deve continuar fornecendo feedback claro e específico, tanto sobre os pontos fortes quanto sobre as áreas que precisam de melhoria. O feedback deve ser sempre orientado para o desenvolvimento, com foco em ações concretas que o liderado pode tomar.\n\nEm resumo, a jornada de desenvolvimento do liderado está progredindo, mas a autonomia técnica continua sendo um desafio significativo. Ao focar em pequenas vitórias, praticar a apresentação de ideias e fornecer feedback estruturado, Gabriella pode ajudar o liderado a superar seus obstáculos e alcançar seu potencial máximo.\n"
          },
          "metadata": {}
        },
        {
          "output_type": "stream",
          "name": "stdout",
          "text": [
            "\n",
            "--- Fim do Script ---\n"
          ]
        }
      ]
    },
    {
      "cell_type": "code",
      "source": [],
      "metadata": {
        "id": "QLsk2nBx5twR"
      },
      "execution_count": null,
      "outputs": []
    }
  ]
}