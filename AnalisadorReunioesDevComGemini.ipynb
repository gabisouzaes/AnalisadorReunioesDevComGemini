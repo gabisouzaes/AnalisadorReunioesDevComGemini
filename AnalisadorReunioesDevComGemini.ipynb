{
  "nbformat": 4,
  "nbformat_minor": 0,
  "metadata": {
    "colab": {
      "provenance": [],
      "authorship_tag": "ABX9TyMtjU8816RTDVRVUUfsJGV3",
      "include_colab_link": true
    },
    "kernelspec": {
      "name": "python3",
      "display_name": "Python 3"
    },
    "language_info": {
      "name": "python"
    }
  },
  "cells": [
    {
      "cell_type": "markdown",
      "metadata": {
        "id": "view-in-github",
        "colab_type": "text"
      },
      "source": [
        "<a href=\"https://colab.research.google.com/github/gabisouzaes/AnalisadorReunioesDevComGemini/blob/main/AnalisadorReunioesDevComGemini.ipynb\" target=\"_parent\"><img src=\"https://colab.research.google.com/assets/colab-badge.svg\" alt=\"Open In Colab\"/></a>"
      ]
    },
    {
      "cell_type": "code",
      "source": [
        "!pip install -q google-generativeai\n",
        "!pip install -q google-api-python-client google-auth-httplib2 google-auth-oauthlib"
      ],
      "metadata": {
        "collapsed": true,
        "id": "IH0FDFNsZE64"
      },
      "execution_count": 124,
      "outputs": []
    },
    {
      "cell_type": "code",
      "source": [
        "# Configura a API Key do Google Gemini\n",
        "\n",
        "import os\n",
        "from google.colab import userdata\n",
        "\n",
        "os.environ[\"GOOGLE_API_KEY\"] = userdata.get('GOOGLE_API_KEY')"
      ],
      "metadata": {
        "id": "PPw_qv5mmDof"
      },
      "execution_count": 125,
      "outputs": []
    },
    {
      "cell_type": "code",
      "source": [
        "# Configura o cliente da SDK do Gemini\n",
        "\n",
        "from google import genai\n",
        "\n",
        "client = genai.Client()\n",
        "\n",
        "MODEL_ID = \"gemini-2.0-flash\""
      ],
      "metadata": {
        "id": "NzTH4u2oqWJ6"
      },
      "execution_count": 126,
      "outputs": []
    },
    {
      "cell_type": "code",
      "source": [
        "# Importa as bibliotecas\n",
        "\n",
        "# --- Importações Padrão do Python ---\n",
        "import os  # Para interagir com o sistema operacional (ex: variáveis de ambiente)\n",
        "import json  # Para trabalhar com dados no formato JSON\n",
        "\n",
        "# --- Importações para Interação com APIs do Google (incluindo Google Docs) ---\n",
        "# Biblioteca principal para construir serviços para APIs do Google\n",
        "from googleapiclient.discovery import build\n",
        "\n",
        "# Bibliotecas para autenticação no Google Cloud e Colab\n",
        "from google.colab import auth, userdata  # 'auth' para autenticar o usuário no Colab, 'userdata' para acessar Secrets\n",
        "import google.auth # Para obter as credenciais padrão após a autenticação\n",
        "\n",
        "# --- Importações para o Google Generative AI (Gemini) ---\n",
        "import google.generativeai as genai_sdk # SDK Padrão do Google Gemini, nomeado como 'genai_sdk'\n",
        "\n",
        "# --- Importações para Exibição no Colab (Opcional, mas útil) ---\n",
        "from IPython.display import Markdown, display # Para formatar e exibir saídas de forma mais rica\n",
        "\n",
        "# --- Importação para Datas (Opcional, mas útil para registrar quando as análises são feitas) ---\n",
        "from datetime import datetime\n",
        "\n",
        "print(\"Todas as bibliotecas e funções necessárias foram importadas.\")\n",
        "print(\"Lembre-se de configurar sua API Key do Gemini e autenticar o usuário para o Google Docs.\")"
      ],
      "metadata": {
        "colab": {
          "base_uri": "https://localhost:8080/"
        },
        "id": "PSDdWDbTrzmh",
        "outputId": "0b9d389b-d27f-4dff-bc89-0e1126963101"
      },
      "execution_count": 127,
      "outputs": [
        {
          "output_type": "stream",
          "name": "stdout",
          "text": [
            "Todas as bibliotecas e funções necessárias foram importadas.\n",
            "Lembre-se de configurar sua API Key do Gemini e autenticar o usuário para o Google Docs.\n"
          ]
        }
      ]
    },
    {
      "cell_type": "code",
      "source": [
        "TECH_LEAD_NAME = \"Gabriella\"\n",
        "NOME_MODELO_GEMINI_STRING = \"gemini-2.0-flash\""
      ],
      "metadata": {
        "id": "kyGiPsH3QODz"
      },
      "execution_count": 128,
      "outputs": []
    },
    {
      "cell_type": "code",
      "source": [
        "# Inicializa o serviço do Google Docs\n",
        "try:\n",
        "    auth.authenticate_user()\n",
        "    print(\"Usuário autenticado para serviços Google.\")\n",
        "    creds, project = google.auth.default()\n",
        "    # Inicializar o serviço do Google Docs\n",
        "    docs_service = build('docs', 'v1', credentials=creds)\n",
        "    print(\"Serviço do Google Docs pronto para uso.\")\n",
        "except Exception as e:\n",
        "    print(f\"Erro na autenticação do Google: {e}\")"
      ],
      "metadata": {
        "colab": {
          "base_uri": "https://localhost:8080/"
        },
        "id": "0TJaomDPtI_f",
        "outputId": "3f501fa5-f0ea-46ca-a224-4da31b06c6cb"
      },
      "execution_count": 129,
      "outputs": [
        {
          "output_type": "stream",
          "name": "stdout",
          "text": [
            "Usuário autenticado para serviços Google.\n",
            "Serviço do Google Docs pronto para uso.\n"
          ]
        }
      ]
    },
    {
      "cell_type": "code",
      "source": [
        "PROMPT_INSIGHTS = \"\"\"Você é uma assistente de IA com especialidade em identificar tendências de desenvolvimento em séries de conversas 1:1.\n",
        "As reuniões analisadas são entre {nome_da_lider} (líder técnica) e um de seus liderados.\n",
        "Interprete o conjunto de anotações de reuniões fornecido abaixo como um todo, refletindo a jornada de desenvolvimento deste liderado específico com {nome_da_lider}.\n",
        "\n",
        "Anotações das Reuniões Agrupadas:\n",
        "---\n",
        "{textos_combinados_das_reunioes}\n",
        "---\n",
        "\n",
        "Com base em todas as anotações fornecidas, elabore um resumo com suas percepções gerais sobre os pontos de desenvolvimento do liderado. Em seu resumo, procure destacar:\n",
        "\n",
        "* As principais áreas de foco para desenvolvimento (técnicas e comportamentais) que se mantiveram ao longo do tempo.\n",
        "* Evidências claras de progresso ou, alternativamente, áreas onde o desenvolvimento pareceu estagnado ou enfrentou dificuldades.\n",
        "* Desafios ou obstáculos que foram mencionados ou observados de forma recorrente.\n",
        "* De 1 a 3 recomendações principais ou próximos passos para o desenvolvimento futuro do liderado.\n",
        "\n",
        "Apresente suas percepções de forma clara, direta e concisa.\n",
        "\"\"\"\n",
        "def gerar_insights_de_documentos_agrupados(\n",
        "    lista_ids,\n",
        "    servico_docs,\n",
        "    nome_lider,\n",
        "    template_prompt,\n",
        "    modelo_gemini_obj\n",
        "):\n",
        "    \"\"\"Lê, combina e envia conteúdos para análise do Gemini (versão simplificada).\"\"\"\n",
        "    textos_docs = []\n",
        "    for doc_id in lista_ids:\n",
        "        texto_lido = ler_transcricao_do_google_docs(doc_id, servico_docs)\n",
        "        if texto_lido != \"DOCUMENTO_VAZIO\" and \"ERRO\" not in texto_lido:\n",
        "            textos_docs.append(f\"--- CONTEÚDO DOCUMENTO (ID: {doc_id}) ---\\n{texto_lido}\\n--- FIM DOCUMENTO (ID: {doc_id}) ---\\n\\n\")\n",
        "\n",
        "    textos_combinados = \"\".join(textos_docs)\n",
        "    if not textos_combinados.strip():\n",
        "        return \"ERRO: Nenhum conteúdo de documento para analisar.\"\n",
        "\n",
        "    prompt_final = template_prompt.format(\n",
        "        nome_da_lider=nome_lider,\n",
        "        textos_combinados_das_reunioes=textos_combinados\n",
        "    )\n",
        "    # Chamada direta à API, sem try-except para máxima simplificação aqui.\n",
        "    # Erros da API irão parar o script.\n",
        "    resposta = modelo_gemini_obj.generate_content(prompt_final)\n",
        "    return resposta.text\n",
        "\n",
        "# --- 6. EXECUÇÃO PRINCIPAL DA ANÁLISE ---\n",
        "print(\"\\n--- Execução Principal da Análise ---\")\n",
        "\n",
        "if docs_service and modelo_gemini_objeto:\n",
        "    lista_de_document_ids = obter_lista_de_ids_google_docs()\n",
        "\n",
        "    if lista_de_document_ids:\n",
        "        print(\"\\n   Iniciando geração de insights...\")\n",
        "        insights_finais = gerar_insights_de_documentos_agrupados(\n",
        "            lista_de_document_ids,\n",
        "            docs_service,\n",
        "            TECH_LEAD_NAME,\n",
        "            PROMPT_INSIGHTS,\n",
        "            modelo_gemini_objeto\n",
        "        )\n",
        "        print(\"\\n   --- RESULTADO DA ANÁLISE DA IA ---\")\n",
        "        display(Markdown(str(insights_finais)))\n",
        "    else:\n",
        "        print(\"\\n   Nenhum ID de documento fornecido. Análise não realizada.\")\n",
        "else:\n",
        "    print(\"\\n   ERRO CRÍTICO: 'docs_service' ou 'modelo_gemini_objeto' não inicializado(s). Verifique a Seção 4.\")\n",
        "\n",
        "print(\"\\n--- Fim do Script ---\")\n"
      ],
      "metadata": {
        "colab": {
          "base_uri": "https://localhost:8080/",
          "height": 987
        },
        "id": "EHbLKotX5wLu",
        "outputId": "3d133550-7e38-4682-9097-ba371f224af5"
      },
      "execution_count": 131,
      "outputs": [
        {
          "output_type": "stream",
          "name": "stdout",
          "text": [
            "\n",
            "--- Execução Principal da Análise ---\n",
            "\n",
            "   --- Coleta de IDs de Documentos do Google Docs ---\n",
            "   Insira o ID do Documento nº 1 (ou digite 'fim' para concluir, ou pressione Enter para concluir se já adicionou algum): 1y7DvxL4VR_aQXqv8fV9b9A0nUXbhvQE4duVclH95SrU\n",
            "   ID '1y7DvxL4VR_aQXqv8fV9b9A0nUXbhvQE4duVclH95SrU' adicionado à lista.\n",
            "   Insira o ID do Documento nº 2 (ou digite 'fim' para concluir, ou pressione Enter para concluir se já adicionou algum): 1PUot-i8gDbY5onUDSHLPDqxNMO8Kjh_VqrNBB0-lxQw\n",
            "   ID '1PUot-i8gDbY5onUDSHLPDqxNMO8Kjh_VqrNBB0-lxQw' adicionado à lista.\n",
            "   Insira o ID do Documento nº 3 (ou digite 'fim' para concluir, ou pressione Enter para concluir se já adicionou algum): 19Y5asb-CN80SIjToMW-fagPQ-Gh56qRiYp5_WwJun34\n",
            "   ID '19Y5asb-CN80SIjToMW-fagPQ-Gh56qRiYp5_WwJun34' adicionado à lista.\n",
            "   Insira o ID do Documento nº 4 (ou digite 'fim' para concluir, ou pressione Enter para concluir se já adicionou algum): \n",
            "   Entrada vazia detectada. Coleta de IDs finalizada.\n",
            "\n",
            "   --- Coleta Finalizada: 3 ID(s) de documento(s) coletado(s). ---\n",
            "\n",
            "   Iniciando geração de insights...\n",
            "\n",
            "   --- RESULTADO DA ANÁLISE DA IA ---\n"
          ]
        },
        {
          "output_type": "display_data",
          "data": {
            "text/plain": [
              "<IPython.core.display.Markdown object>"
            ],
            "text/markdown": "## Percepções sobre o Desenvolvimento do Liderado\n\nAnalisando as anotações das reuniões 1:1, o liderado demonstra um desenvolvimento consistente em suas habilidades técnicas e comportamentais, com áreas de foco bem definidas e progresso mensurável ao longo do tempo.\n\n**Áreas de Foco Consistentes:**\n\n*   **Técnico:** Análise de dados (especialmente funil de vendas), identificação de gargalos, e otimização de processos de RevOps. Um tema recorrente é a necessidade de garantir a qualidade e consistência dos dados no CRM para análises precisas.\n*   **Comportamental:** Comunicação, especificamente a capacidade de traduzir insights técnicos em informações acionáveis para diferentes stakeholders, com foco em vendas e marketing.\n\n**Evidências de Progresso:**\n\n*   **Comunicação:** Inicialmente, a líder apontou a necessidade de melhorar a comunicação dos resultados da análise do pipeline para a equipe de vendas. O liderado demonstrou progresso significativo ao implementar uma abordagem mais focada em insights acionáveis, resultando em melhor receptividade por parte dos stakeholders.\n*   **Planejamento e Organização:** A implementação de blocos de tempo para \"data hygiene\" no CRM, sugerida pela líder, provou ser uma estratégia eficaz para melhorar a qualidade dos dados e otimizar o tempo de análise, mostrando a capacidade do liderado em implementar e adaptar sugestões.\n*   **KPIs RevOps:** Demonstra melhora no KPI \"Taxa de Adoção do Novo Processo de Qualificação de Leads (Scorecards)\", indicando sucesso na condução da sessão de reforço com o time de SDRs.\n\n**Desafios e Obstáculos:**\n\n*   **Qualidade dos Dados:** A inconsistência e a falta de padronização dos dados no CRM (especialmente \"Origem do Lead\" e timestamps de mudança de estágio) surgem como um desafio recorrente, impactando a eficiência da análise e a precisão dos resultados.\n*   **Atingimento de Metas:** A dificuldade em atingir a meta de \"Acuracidade da Previsão de Vendas (Forecast Accuracy)\" expõe uma área onde o liderado pode precisar de mais suporte para identificar e mitigar riscos em oportunidades de vendas.\n\n**Recomendações e Próximos Passos:**\n\n1.  **Foco na Automação da Qualidade dos Dados:** Explorar ferramentas e workflows para automatizar a validação e limpeza dos dados no CRM, reduzindo a dependência de processos manuais e garantindo a consistência das informações. Isso pode incluir a implementação de regras de validação, alertas para dados inconsistentes e integrações com outras fontes de dados.\n2.  **Desenvolvimento de Habilidades de Forecasting:** Aprofundar o conhecimento sobre metodologias de previsão de vendas e análise de riscos, buscando entender os fatores que impactam a acuracidade do forecast e desenvolver estratégias para mitigar surpresas negativas.\n3.  **Apresentação para Liderança:** A apresentação dos achados da análise do funil para a liderança de Vendas e Marketing é uma excelente oportunidade para o liderado demonstrar suas habilidades de comunicação e influência, consolidando seu papel como um parceiro estratégico para essas áreas. A preparação cuidadosa, com foco no impacto no revenue e no ROI das recomendações, será crucial para o sucesso dessa apresentação.\n"
          },
          "metadata": {}
        },
        {
          "output_type": "stream",
          "name": "stdout",
          "text": [
            "\n",
            "--- Fim do Script ---\n"
          ]
        }
      ]
    },
    {
      "cell_type": "code",
      "source": [],
      "metadata": {
        "id": "QLsk2nBx5twR"
      },
      "execution_count": null,
      "outputs": []
    }
  ]
}