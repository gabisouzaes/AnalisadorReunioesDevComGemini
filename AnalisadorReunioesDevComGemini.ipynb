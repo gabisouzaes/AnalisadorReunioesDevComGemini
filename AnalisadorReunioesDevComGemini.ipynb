{
  "nbformat": 4,
  "nbformat_minor": 0,
  "metadata": {
    "colab": {
      "provenance": [],
      "authorship_tag": "ABX9TyMtjU8816RTDVRVUUfsJGV3",
      "include_colab_link": true
    },
    "kernelspec": {
      "name": "python3",
      "display_name": "Python 3"
    },
    "language_info": {
      "name": "python"
    }
  },
  "cells": [
    {
      "cell_type": "markdown",
      "metadata": {
        "id": "view-in-github",
        "colab_type": "text"
      },
      "source": [
        "<a href=\"https://colab.research.google.com/github/gabisouzaes/AnalisadorReunioesDevComGemini/blob/main/AnalisadorReunioesDevComGemini.ipynb\" target=\"_parent\"><img src=\"https://colab.research.google.com/assets/colab-badge.svg\" alt=\"Open In Colab\"/></a>"
      ]
    },
    {
      "cell_type": "code",
      "source": [
        "!pip install -q google-generativeai\n",
        "!pip install -q google-api-python-client google-auth-httplib2 google-auth-oauthlib"
      ],
      "metadata": {
        "collapsed": true,
        "id": "IH0FDFNsZE64"
      },
      "execution_count": 124,
      "outputs": []
    },
    {
      "cell_type": "code",
      "source": [
        "# Configura a API Key do Google Gemini\n",
        "\n",
        "import os\n",
        "from google.colab import userdata\n",
        "\n",
        "os.environ[\"GOOGLE_API_KEY\"] = userdata.get('GOOGLE_API_KEY')"
      ],
      "metadata": {
        "id": "PPw_qv5mmDof"
      },
      "execution_count": 125,
      "outputs": []
    },
    {
      "cell_type": "code",
      "source": [
        "# Configura o cliente da SDK do Gemini\n",
        "\n",
        "from google import genai\n",
        "\n",
        "client = genai.Client()\n",
        "\n",
        "MODEL_ID = \"gemini-2.0-flash\""
      ],
      "metadata": {
        "id": "NzTH4u2oqWJ6"
      },
      "execution_count": 126,
      "outputs": []
    },
    {
      "cell_type": "code",
      "source": [
        "# Importa as bibliotecas\n",
        "\n",
        "# --- Importações Padrão do Python ---\n",
        "import os  # Para interagir com o sistema operacional (ex: variáveis de ambiente)\n",
        "import json  # Para trabalhar com dados no formato JSON\n",
        "\n",
        "# --- Importações para Interação com APIs do Google (incluindo Google Docs) ---\n",
        "# Biblioteca principal para construir serviços para APIs do Google\n",
        "from googleapiclient.discovery import build\n",
        "\n",
        "# Bibliotecas para autenticação no Google Cloud e Colab\n",
        "from google.colab import auth, userdata  # 'auth' para autenticar o usuário no Colab, 'userdata' para acessar Secrets\n",
        "import google.auth # Para obter as credenciais padrão após a autenticação\n",
        "\n",
        "# --- Importações para o Google Generative AI (Gemini) ---\n",
        "import google.generativeai as genai_sdk # SDK Padrão do Google Gemini, nomeado como 'genai_sdk'\n",
        "\n",
        "# --- Importações para Exibição no Colab (Opcional, mas útil) ---\n",
        "from IPython.display import Markdown, display # Para formatar e exibir saídas de forma mais rica\n",
        "\n",
        "# --- Importação para Datas (Opcional, mas útil para registrar quando as análises são feitas) ---\n",
        "from datetime import datetime\n",
        "\n",
        "print(\"Todas as bibliotecas e funções necessárias foram importadas.\")\n",
        "print(\"Lembre-se de configurar sua API Key do Gemini e autenticar o usuário para o Google Docs.\")"
      ],
      "metadata": {
        "colab": {
          "base_uri": "https://localhost:8080/"
        },
        "id": "PSDdWDbTrzmh",
        "outputId": "0b9d389b-d27f-4dff-bc89-0e1126963101"
      },
      "execution_count": 127,
      "outputs": [
        {
          "output_type": "stream",
          "name": "stdout",
          "text": [
            "Todas as bibliotecas e funções necessárias foram importadas.\n",
            "Lembre-se de configurar sua API Key do Gemini e autenticar o usuário para o Google Docs.\n"
          ]
        }
      ]
    },
    {
      "cell_type": "code",
      "source": [
        "TECH_LEAD_NAME = \"Gabriella\"\n",
        "NOME_MODELO_GEMINI_STRING = \"gemini-2.0-flash\""
      ],
      "metadata": {
        "id": "kyGiPsH3QODz"
      },
      "execution_count": 128,
      "outputs": []
    },
    {
      "cell_type": "code",
      "source": [
        "# Inicializa o serviço do Google Docs\n",
        "try:\n",
        "    auth.authenticate_user()\n",
        "    print(\"Usuário autenticado para serviços Google.\")\n",
        "    creds, project = google.auth.default()\n",
        "    # Inicializar o serviço do Google Docs\n",
        "    docs_service = build('docs', 'v1', credentials=creds)\n",
        "    print(\"Serviço do Google Docs pronto para uso.\")\n",
        "except Exception as e:\n",
        "    print(f\"Erro na autenticação do Google: {e}\")"
      ],
      "metadata": {
        "colab": {
          "base_uri": "https://localhost:8080/"
        },
        "id": "0TJaomDPtI_f",
        "outputId": "3f501fa5-f0ea-46ca-a224-4da31b06c6cb"
      },
      "execution_count": 129,
      "outputs": [
        {
          "output_type": "stream",
          "name": "stdout",
          "text": [
            "Usuário autenticado para serviços Google.\n",
            "Serviço do Google Docs pronto para uso.\n"
          ]
        }
      ]
    },
    {
      "cell_type": "code",
      "source": [
        "PROMPT_INSIGHTS = \"\"\"Você é uma assistente de IA com especialidade em identificar tendências de desenvolvimento em séries de conversas 1:1.\n",
        "As reuniões analisadas são entre {nome_da_lider} (líder técnica) e um de seus liderados.\n",
        "Interprete o conjunto de anotações de reuniões fornecido abaixo como um todo, refletindo a jornada de desenvolvimento deste liderado específico com {nome_da_lider}.\n",
        "\n",
        "Anotações das Reuniões Agrupadas:\n",
        "---\n",
        "{textos_combinados_das_reunioes}\n",
        "---\n",
        "\n",
        "Com base em todas as anotações fornecidas, elabore um resumo com suas percepções gerais sobre os pontos de desenvolvimento do liderado. Em seu resumo, procure destacar:\n",
        "\n",
        "* As principais áreas de foco para desenvolvimento (técnicas e comportamentais) que se mantiveram ao longo do tempo.\n",
        "* Evidências claras de progresso ou, alternativamente, áreas onde o desenvolvimento pareceu estagnado ou enfrentou dificuldades.\n",
        "* Desafios ou obstáculos que foram mencionados ou observados de forma recorrente.\n",
        "* De 1 a 3 recomendações principais ou próximos passos para o desenvolvimento futuro do liderado.\n",
        "\n",
        "Apresente suas percepções de forma clara, direta e concisa.\n",
        "\"\"\"\n",
        "def gerar_insights_de_documentos_agrupados(\n",
        "    lista_ids,\n",
        "    servico_docs,\n",
        "    nome_lider,\n",
        "    template_prompt,\n",
        "    modelo_gemini_obj\n",
        "):\n",
        "    \"\"\"Lê, combina e envia conteúdos para análise do Gemini (versão simplificada).\"\"\"\n",
        "    textos_docs = []\n",
        "    for doc_id in lista_ids:\n",
        "        texto_lido = ler_transcricao_do_google_docs(doc_id, servico_docs)\n",
        "        if texto_lido != \"DOCUMENTO_VAZIO\" and \"ERRO\" not in texto_lido:\n",
        "            textos_docs.append(f\"--- CONTEÚDO DOCUMENTO (ID: {doc_id}) ---\\n{texto_lido}\\n--- FIM DOCUMENTO (ID: {doc_id}) ---\\n\\n\")\n",
        "\n",
        "    textos_combinados = \"\".join(textos_docs)\n",
        "    if not textos_combinados.strip():\n",
        "        return \"ERRO: Nenhum conteúdo de documento para analisar.\"\n",
        "\n",
        "    prompt_final = template_prompt.format(\n",
        "        nome_da_lider=nome_lider,\n",
        "        textos_combinados_das_reunioes=textos_combinados\n",
        "    )\n",
        "    # Chamada direta à API, sem try-except para máxima simplificação aqui.\n",
        "    # Erros da API irão parar o script.\n",
        "    resposta = modelo_gemini_obj.generate_content(prompt_final)\n",
        "    return resposta.text\n",
        "\n",
        "# --- 6. EXECUÇÃO PRINCIPAL DA ANÁLISE ---\n",
        "print(\"\\n--- Execução Principal da Análise ---\")\n",
        "\n",
        "if docs_service and modelo_gemini_objeto:\n",
        "    lista_de_document_ids = obter_lista_de_ids_google_docs()\n",
        "\n",
        "    if lista_de_document_ids:\n",
        "        print(\"\\n   Iniciando geração de insights...\")\n",
        "        insights_finais = gerar_insights_de_documentos_agrupados(\n",
        "            lista_de_document_ids,\n",
        "            docs_service,\n",
        "            TECH_LEAD_NAME,\n",
        "            PROMPT_INSIGHTS,\n",
        "            modelo_gemini_objeto\n",
        "        )\n",
        "        print(\"\\n   --- RESULTADO DA ANÁLISE DA IA ---\")\n",
        "        display(Markdown(str(insights_finais)))\n",
        "    else:\n",
        "        print(\"\\n   Nenhum ID de documento fornecido. Análise não realizada.\")\n",
        "else:\n",
        "    print(\"\\n   ERRO CRÍTICO: 'docs_service' ou 'modelo_gemini_objeto' não inicializado(s). Verifique a Seção 4.\")\n",
        "\n",
        "print(\"\\n--- Fim do Script ---\")\n"
      ],
      "metadata": {
        "colab": {
          "base_uri": "https://localhost:8080/",
          "height": 1000
        },
        "id": "EHbLKotX5wLu",
        "outputId": "95c7a966-6c3e-49f3-e01f-8e94545f4a43"
      },
      "execution_count": 130,
      "outputs": [
        {
          "output_type": "stream",
          "name": "stdout",
          "text": [
            "\n",
            "--- Execução Principal da Análise ---\n",
            "\n",
            "   --- Coleta de IDs de Documentos do Google Docs ---\n",
            "   Insira o ID do Documento nº 1 (ou digite 'fim' para concluir, ou pressione Enter para concluir se já adicionou algum): 1UMd1lqlvB_VWfW442obW0yjD3tlMt_7U55sxntLA3ho\n",
            "   ID '1UMd1lqlvB_VWfW442obW0yjD3tlMt_7U55sxntLA3ho' adicionado à lista.\n",
            "   Insira o ID do Documento nº 2 (ou digite 'fim' para concluir, ou pressione Enter para concluir se já adicionou algum): 1_SH0o76SJD9_htSe8S5WegYR08sjzc89fPr0uhp1bjo\n",
            "   ID '1_SH0o76SJD9_htSe8S5WegYR08sjzc89fPr0uhp1bjo' adicionado à lista.\n",
            "   Insira o ID do Documento nº 3 (ou digite 'fim' para concluir, ou pressione Enter para concluir se já adicionou algum): 1HVlICG87FCSLyRxqrZM84Umx7YoqgiV-lV6EC2CQfLA\n",
            "   ID '1HVlICG87FCSLyRxqrZM84Umx7YoqgiV-lV6EC2CQfLA' adicionado à lista.\n",
            "   Insira o ID do Documento nº 4 (ou digite 'fim' para concluir, ou pressione Enter para concluir se já adicionou algum): 1i7lcXMHI4LT9DZuUQ5_sEOMrFeC8vCi6GTrWUdMFUP8\n",
            "   ID '1i7lcXMHI4LT9DZuUQ5_sEOMrFeC8vCi6GTrWUdMFUP8' adicionado à lista.\n",
            "   Insira o ID do Documento nº 5 (ou digite 'fim' para concluir, ou pressione Enter para concluir se já adicionou algum): 1Ep27xhEmuA83U6poGrsx8QDIN0zhqKaBFYzBn3Rs91Q\n",
            "   ID '1Ep27xhEmuA83U6poGrsx8QDIN0zhqKaBFYzBn3Rs91Q' adicionado à lista.\n",
            "   Insira o ID do Documento nº 6 (ou digite 'fim' para concluir, ou pressione Enter para concluir se já adicionou algum): 1kKu8DYBo5cnVPs4P6x7SbDTnaPs_TAa7XlR5ZModcSk\n",
            "   ID '1kKu8DYBo5cnVPs4P6x7SbDTnaPs_TAa7XlR5ZModcSk' adicionado à lista.\n",
            "   Insira o ID do Documento nº 7 (ou digite 'fim' para concluir, ou pressione Enter para concluir se já adicionou algum): \n",
            "   Entrada vazia detectada. Coleta de IDs finalizada.\n",
            "\n",
            "   --- Coleta Finalizada: 6 ID(s) de documento(s) coletado(s). ---\n",
            "\n",
            "   Iniciando geração de insights...\n",
            "\n",
            "   --- RESULTADO DA ANÁLISE DA IA ---\n"
          ]
        },
        {
          "output_type": "display_data",
          "data": {
            "text/plain": [
              "<IPython.core.display.Markdown object>"
            ],
            "text/markdown": "## Percepções sobre o Desenvolvimento de Túlio:\n\nAs reuniões 1:1 entre Gabriella e Túlio revelam uma jornada de desenvolvimento focada em duas áreas principais: **gestão da ambiguidade e comunicação do impacto do trabalho**. Inicialmente, o foco era em estruturar o pensamento analítico, organizar tarefas e otimizar a produtividade. Rapidamente, a atenção se deslocou para a dificuldade de Túlio em lidar com a incerteza, sua tendência a minimizar o próprio valor e a importância de comunicar o impacto de suas entregas de forma mais eficaz.\n\n**Áreas de Foco Constantes:**\n\n*   **Gestão da Ambiguidade:** A dificuldade em lidar com a incerteza e manter uma atitude construtiva em processos de transformação é um tema recorrente. Túlio demonstra tendência a se cobrar demais por não ter todas as respostas e a se sentir paralisado diante do desconhecido.\n*   **Comunicação e Auto-valorização:** Túlio tende a minimizar o valor de suas entregas e não comunicar seu impacto de forma clara. Isso afeta a percepção que os outros têm do seu trabalho e pode limitar seu crescimento.\n\n**Evidências de Progresso e Dificuldades:**\n\n*   **Progresso:** Túlio demonstra agilidade na execução de tarefas (desdobramento de metas), busca ativamente conhecimento através de trocas com outros BAs e conexões com o time de CS, e tem sido fundamental para destravar pontos em projetos importantes. Ele também demonstra abertura para receber feedback e trabalhar em seus pontos fracos.\n*   **Dificuldades:** A principal dificuldade reside na persistência da ansiedade e nervosismo em situações de incerteza, o que pode prejudicar a fluidez do trabalho. A autocrítica excessiva e a tendência a minimizar o próprio valor também continuam sendo desafios.\n\n**Desafios e Obstáculos Recorrentes:**\n\n*   **Autocrítica e Perfeccionismo:** Túlio se cobra demais por não ter todas as respostas, o que gera ansiedade e pode levá-lo a descredibilizar o processo.\n*   **Dificuldade em Lidar com a Incerteza:** A falta de clareza em processos de transformação o deixa desconfortável e pode prejudicar sua capacidade de manter uma atitude construtiva.\n*   **Comunicação do Impacto:** Túlio precisa aprender a comunicar o valor de suas entregas de forma mais eficaz, destacando o impacto e a complexidade das tarefas.\n\n**Recomendações e Próximos Passos:**\n\n1.  **Focar na mentalidade de crescimento:** Encorajar Túlio a ver a incerteza como uma oportunidade de aprendizado e desenvolvimento. Trabalhar na aceitação de que nem sempre terá todas as respostas e que o esforço investigativo é mais importante que a perfeição.\n2.  **Desenvolver habilidades de comunicação de impacto:** Continuar incentivando Túlio a reconhecer o valor de suas entregas e comunicar seu impacto de forma clara e concisa, utilizando dados e exemplos concretos para demonstrar seus resultados.\n3.  **Continuar o acompanhamento da saúde mental:** Manter o espaço aberto para conversas sobre temas subjetivos, como saúde mental e bem-estar. Auxiliar Túlio a encontrar estratégias para lidar com a ansiedade e o estresse no ambiente de trabalho, buscando apoio profissional se necessário.\n"
          },
          "metadata": {}
        },
        {
          "output_type": "stream",
          "name": "stdout",
          "text": [
            "\n",
            "--- Fim do Script ---\n"
          ]
        }
      ]
    },
    {
      "cell_type": "code",
      "source": [],
      "metadata": {
        "id": "QLsk2nBx5twR"
      },
      "execution_count": null,
      "outputs": []
    }
  ]
}